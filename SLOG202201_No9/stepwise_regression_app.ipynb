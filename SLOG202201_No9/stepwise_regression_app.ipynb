{
 "cells": [
  {
   "cell_type": "code",
   "execution_count": 11,
   "metadata": {},
   "outputs": [],
   "source": [
    "import pandas as pd\n",
    "import seaborn as sns\n",
    "import matplotlib.pyplot as plt\n",
    "import statsmodels.api as sm\n",
    "import numpy as np\n",
    "import streamlit as st "
   ]
  },
  {
   "cell_type": "markdown",
   "metadata": {},
   "source": [
    "# Helper Functions"
   ]
  },
  {
   "cell_type": "code",
   "execution_count": 12,
   "metadata": {},
   "outputs": [],
   "source": [
    "data_df = pd.DataFrame()\n",
    "y_var = \"\""
   ]
  },
  {
   "cell_type": "code",
   "execution_count": 13,
   "metadata": {},
   "outputs": [],
   "source": [
    "def regression_plots(regression_data_df = data_df, y_variable = y_var, columns = 3):\n",
    "    \n",
    "    rows = int(np.ceil((len(regression_data_df.columns)-1)/columns))\n",
    "    fig,axs = plt.subplots(rows,columns, sharey=True,figsize = (rows*4,rows*4))\n",
    "    if len(axs)==1:\n",
    "        sns.regplot(x = regression_data_df[regression_data_df.columns.drop(y_variable).to_list()],\n",
    "                    y=regression_data_df[y_variable],ax=axs,robust=False)\n",
    "    \n",
    "    for col,ax in enumerate(axs.flatten()):\n",
    "        if col <len(regression_data_df.columns):\n",
    "            column = regression_data_df.columns[col]\n",
    "            if column == y_variable:\n",
    "                continue\n",
    "            else:\n",
    "                sns.regplot(x = regression_data_df[column],y=regression_data_df[y_variable],ax=ax,robust=False)\n",
    "    fig.tight_layout()\n",
    "    return fig \n",
    "\n",
    "def stepwise_regression(regression_data_df = data_df, y_variable = y_var,constant = True, max_p = 0.05,only_positive=True):\n",
    "    '''\n",
    "    This function iterates over the given data frame, trying to explain the y variable by all variables except itself.\n",
    "    The process stops once all variables are below the specified p-value. \n",
    "    By default only positive coefficients are accepted. Model filters until no negative coefficients are in the regression anymore.\n",
    "    '''\n",
    "    \n",
    "    #Set Original Dataframe\n",
    "    X = regression_data_df\n",
    "    X = X.drop([y_variable],axis=1)\n",
    "    if constant == True:\n",
    "        X = sm.add_constant(X)\n",
    "    Y = regression_data_df[y_variable]\n",
    "    exog_vars = len(X.columns)\n",
    "    \n",
    "    #Iterate\n",
    "    while exog_vars >2:\n",
    "        model = sm.OLS(endog = Y, exog = X)\n",
    "        results = model.fit()\n",
    "        \n",
    "        worst_p_value = results.pvalues.max()\n",
    "        worst_p_name = results.pvalues.idxmax()\n",
    "        X = X.drop([worst_p_name],axis=1)\n",
    "        exog_vars = len(X.columns)\n",
    "        if worst_p_value<max_p:\n",
    "            break\n",
    "\n",
    "    model = sm.OLS(endog = Y, exog = X)\n",
    "    results = model.fit()\n",
    "    params_inc_neg = results.params\n",
    "    \n",
    "    if only_positive==True:         \n",
    "        while len(results.params[results.params<0])>0:\n",
    "            coeffs = results.params\n",
    "            coeffs_pos = coeffs[coeffs>0]\n",
    "            X = X[coeffs_pos.index.to_list()]\n",
    "            model = sm.OLS(endog = Y, exog = X)\n",
    "            results = model.fit()\n",
    "            \n",
    "    if \"const\" in X.columns:\n",
    "        relevant_vars = regression_data_df[X.columns.drop(\"const\").to_list()+[y_variable]]\n",
    "    else:\n",
    "        relevant_vars = regression_data_df[X.columns.to_list()+[y_variable]]\n",
    "    \n",
    "    return results, relevant_vars,params_inc_neg"
   ]
  },
  {
   "cell_type": "markdown",
   "metadata": {},
   "source": [
    "# Intro"
   ]
  },
  {
   "cell_type": "code",
   "execution_count": 14,
   "metadata": {},
   "outputs": [
    {
     "data": {
      "text/plain": [
       "DeltaGenerator(_root_container=0, _provided_cursor=None, _parent=None, _block_type=None, _form_data=None)"
      ]
     },
     "execution_count": 14,
     "metadata": {},
     "output_type": "execute_result"
    }
   ],
   "source": [
    "st.title(\"Stepwise Regression Calculator\")"
   ]
  },
  {
   "cell_type": "code",
   "execution_count": 15,
   "metadata": {},
   "outputs": [
    {
     "data": {
      "text/plain": [
       "DeltaGenerator(_root_container=0, _provided_cursor=None, _parent=None, _block_type=None, _form_data=None)"
      ]
     },
     "execution_count": 15,
     "metadata": {},
     "output_type": "execute_result"
    }
   ],
   "source": [
    "uploaded_file = st.file_uploader(\"Chose a CSV file that contains the date for the regression.\")\n",
    "st.text(\"This must be a csv file that his build like below:\")"
   ]
  },
  {
   "cell_type": "code",
   "execution_count": 16,
   "metadata": {},
   "outputs": [
    {
     "data": {
      "text/plain": [
       "DeltaGenerator(_root_container=0, _provided_cursor=None, _parent=None, _block_type=None, _form_data=None)"
      ]
     },
     "execution_count": 16,
     "metadata": {},
     "output_type": "execute_result"
    }
   ],
   "source": [
    "sample_df = pd.DataFrame({\"Variable A\":[1,2,3],\"Variable B\":[2,6,1],\"Further Variables\":[5,6,7]},index=pd.DatetimeIndex([\"31/12/2020\",\"31/12/2021\",\"31/12/2022\"]))\n",
    "st.table(sample_df)\n",
    "st.text(\"The first column of the csv must have dates, the first rows must have variables. Each variable has its own column.\")"
   ]
  },
  {
   "cell_type": "markdown",
   "metadata": {},
   "source": [
    "# Process"
   ]
  },
  {
   "cell_type": "code",
   "execution_count": 17,
   "metadata": {},
   "outputs": [],
   "source": [
    "format_dec = st.selectbox(\"German or English Format?\", options=[\"German\",\"English\"],key=\"000\")"
   ]
  },
  {
   "cell_type": "code",
   "execution_count": 18,
   "metadata": {},
   "outputs": [],
   "source": [
    "if uploaded_file is not None:\n",
    "    if format_dec == \"German\":\n",
    "        data_df = pd.read_csv(uploaded_file,delimiter=\";\",decimal=\",\", index_col=0).dropna()\n",
    "    if format_dec ==\"English\":\n",
    "        data_df = pd.read_csv(uploaded_file,index_col=0).dropna()\n",
    "    \n",
    "    data_df.index = pd.DatetimeIndex(data_df.index)\n",
    "    st.write(\"Does this look right to you?\")\n",
    "    st.write(data_df.head())\n",
    "    y_var = st.selectbox(label=\"What is your endogenous variable?\",options=data_df.columns.to_list(),key=\"001\")\n",
    "    st.text(\"Lets take a first look at the individual relationships.\")\n",
    "\n",
    "    columns = st.selectbox(\"How many columns of charts should the below have?\", options=[1,2,3,4,5],index=3,key=\"002\")\n",
    "\n",
    "\n",
    "    rows = int(np.ceil((len(data_df.columns)-1)/columns))\n",
    "    fig,axs = plt.subplots(rows,columns, sharey=True,figsize = (16,16))\n",
    "    for col,ax in enumerate(axs.flatten()):\n",
    "        if col+1 <len(data_df.columns):\n",
    "            column = data_df.columns[col+1]\n",
    "            sns.regplot(x = data_df[column],y=data_df[y_var],ax=ax,robust=False)\n",
    "    fig.tight_layout()\n",
    "    st.pyplot(fig=fig)\n",
    "    p_val = st.slider(\"At what P-Value do you want to make the cut for exclusion of a variable?\",\n",
    "                      min_value=0,\n",
    "                      max_value=0.2,\n",
    "                      value=0.05,\n",
    "                      step=0.025,\n",
    "                      key=\"slider1\")\n",
    "    only_positive = st.selectbox(\"Do you want to include only positive coefficients?\",\n",
    "                                 options=[\"Yes\",\"No\"],\n",
    "                                 index=0,\n",
    "                                 key=\"pos_neg_select\")\n",
    "    if only_positive == \"Yes\":\n",
    "        only_positive = True\n",
    "    else:\n",
    "        only_positive = False\n",
    "    constant = st.selectbox(\"Does your regression need a constant?\",\n",
    "                                     options=[\"Yes\",\"No\"],\n",
    "                                     index=0,\n",
    "                                     key=\"constant_select\")\n",
    "    if constant == \"Yes\":\n",
    "        constant = True\n",
    "    else:\n",
    "        only_positive = False\n",
    "    st.text(\"Below you see the regression results\")\n",
    "    st.text(stepwise_regression(regression_data_df = data_df,\n",
    "                                y_variable = y_var,\n",
    "                                constant = constant,\n",
    "                                max_p = p_val,\n",
    "                                only_positive=only_positive)[0].summary().as_text())\n",
    "    \n",
    "    \n",
    "    filtered_var_df = stepwise_regression(regression_data_df = data_df, y_variable = y_var,constant = True, max_p = 0.05,only_positive=True)[1]\n",
    "    columns = st.selectbox(\"How many columns of charts should the below have?\", options=[1,2,3,4,5],index=3,key=\"003\")\n",
    "\n",
    "    reg_fig = regression_plots(regression_data_df = filtered_var_df, y_variable = y_var, columns = columns)\n",
    "    st.pyplot(fig=reg_fig)"
   ]
  }
 ],
 "metadata": {
  "kernelspec": {
   "display_name": "Python 3",
   "language": "python",
   "name": "python3"
  },
  "language_info": {
   "codemirror_mode": {
    "name": "ipython",
    "version": 3
   },
   "file_extension": ".py",
   "mimetype": "text/x-python",
   "name": "python",
   "nbconvert_exporter": "python",
   "pygments_lexer": "ipython3",
   "version": "3.9.1"
  },
  "toc": {
   "base_numbering": 1,
   "nav_menu": {},
   "number_sections": true,
   "sideBar": true,
   "skip_h1_title": false,
   "title_cell": "Table of Contents",
   "title_sidebar": "Contents",
   "toc_cell": false,
   "toc_position": {},
   "toc_section_display": true,
   "toc_window_display": false
  },
  "varInspector": {
   "cols": {
    "lenName": 16,
    "lenType": 16,
    "lenVar": 40
   },
   "kernels_config": {
    "python": {
     "delete_cmd_postfix": "",
     "delete_cmd_prefix": "del ",
     "library": "var_list.py",
     "varRefreshCmd": "print(var_dic_list())"
    },
    "r": {
     "delete_cmd_postfix": ") ",
     "delete_cmd_prefix": "rm(",
     "library": "var_list.r",
     "varRefreshCmd": "cat(var_dic_list()) "
    }
   },
   "types_to_exclude": [
    "module",
    "function",
    "builtin_function_or_method",
    "instance",
    "_Feature"
   ],
   "window_display": false
  }
 },
 "nbformat": 4,
 "nbformat_minor": 2
}
