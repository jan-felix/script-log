{
 "cells": [
  {
   "cell_type": "markdown",
   "metadata": {},
   "source": [
    "# Fixed Income Calculator\n",
    "\n",
    "Fixed income securities lend themselves to relatively complicated calculations given the predictability of cash flows. Complicated calculations are tedious to do, but once they are understood they can be coded and their relations explored by plugging in values to see whats the result. The below is a project that does exactly that for bond prices, yield to maturity, coupons, periodicity and duration (measured by effective duration)."
   ]
  },
  {
   "cell_type": "code",
   "execution_count": 1,
   "metadata": {},
   "outputs": [],
   "source": [
    "import numpy as np\n",
    "import pandas as pd\n",
    "import matplotlib.pyplot as plt\n",
    "%matplotlib inline"
   ]
  },
  {
   "cell_type": "markdown",
   "metadata": {},
   "source": [
    "## Bond price calculator\n",
    "The first relation we have to understand is the relation between the usual variables of a bond (facevalue, couponrate, tenor, periodicity, ytm) and its price. To do so, the below function simply discounts the coupons and the principal at the bonds yield to maturity. "
   ]
  },
  {
   "cell_type": "code",
   "execution_count": 2,
   "metadata": {},
   "outputs": [],
   "source": [
    "def bond_price(facevalue, couponrate, tenor, periodicity, ytm):\n",
    "    periods = tenor*periodicity\n",
    "    i = ytm/periodicity\n",
    "    cr = couponrate/periodicity\n",
    "    tv = list()\n",
    "    for p in range(1,int(periods)): \n",
    "        tv.append((cr*facevalue)/(1+i)**p)\n",
    "    value = sum(tv) + (facevalue*(1+cr))/(1+i)**periods\n",
    "    return(value)"
   ]
  },
  {
   "cell_type": "markdown",
   "metadata": {},
   "source": [
    "Quick explanation: Depending on the tenor and the bond's periodicity, we have to calculate the number of coupons we have to discount. Coupon rates and interest rates are stated as annual rates, so a bond with a 5% coupon at 3%=ytm that pays bi-annually (periodicity = 2). Has a bi-annual coupon of 2.5% of face value, and we would discount the first payment happening in half a year at 1.5%. \n",
    "\n",
    "Knowing this, we simply calculate the time value (tv) of all coupons by discounting them back to today. Since range(1,10) gives us the numbers from 1 to 9(!) we then have to add the last coupon to the facevalue of the bond, and then discount this back as well to get the bonds price. So far very basic. "
   ]
  },
  {
   "cell_type": "markdown",
   "metadata": {},
   "source": [
    "## Effective Duration calculator\n",
    "The second essential property of any bonds is its interest rate sensitivity or duration. Essentially, the duration is the first derivative of the function of a bond that calculates the price given a yield to maturity. There are 3 standard ways to state duration (Macauley, Modified Duration, Effective Duration). We measure the effective duration since it is relatively straight forward to derive from observed bond prices at given interest rates. "
   ]
  },
  {
   "cell_type": "code",
   "execution_count": 14,
   "metadata": {},
   "outputs": [
    {
     "ename": "SyntaxError",
     "evalue": "positional argument follows keyword argument (<ipython-input-14-0ba2b5486e01>, line 29)",
     "output_type": "error",
     "traceback": [
      "\u001b[1;36m  File \u001b[1;32m\"<ipython-input-14-0ba2b5486e01>\"\u001b[1;36m, line \u001b[1;32m29\u001b[0m\n\u001b[1;33m    prices.append(bond_price(facevalue, couponrate, tenor = tenor_range[item], periodicity, ytm))\u001b[0m\n\u001b[1;37m                                                                              ^\u001b[0m\n\u001b[1;31mSyntaxError\u001b[0m\u001b[1;31m:\u001b[0m positional argument follows keyword argument\n"
     ]
    }
   ],
   "source": [
    "def price_ytm_curve(facevalue, couponrate, tenor, periodicity, yt_range=np.arange(0,0.1,0.001)):\n",
    "    \n",
    "    prices = list()\n",
    "    yt = list()\n",
    "    #First loop, calculate prices at various ytms.\n",
    "    for item in range(0,len(yt_range)):\n",
    "        prices.append(bond_price(facevalue, couponrate, tenor, periodicity, ytm = yt_range[item]))\n",
    "        yt.append(yt_range[item])\n",
    "    d = {'price': prices, 'YTM': yt}\n",
    "    df = pd.DataFrame(data=d)\n",
    "    \n",
    "    \n",
    "    eff_dur = pd.DataFrame()\n",
    "    for i in range(1,len(df)-1):\n",
    "        eff_dur.loc[i,\"eff_dur\"] = (df.loc[i-1,\"price\"]-df.loc[i+1,\"price\"])/(2*df.loc[i,\"price\"]*(df.loc[i,\"YTM\"]-df.loc[i-1,\"YTM\"]))\n",
    "        eff_dur.loc[i,\"price\"] = df.loc[i,\"price\"]\n",
    "    \n",
    "    df = pd.merge(df, eff_dur, left_on =\"price\",right_on= \"price\")\n",
    "    return(df)\n",
    "\n",
    "\n",
    "\n",
    "def price_tenor_curve(facevalue, couponrate, periodicity, ytm, tenor_range=np.arange(10,100,1)):\n",
    "    \n",
    "    prices = list()\n",
    "    tenor = list()\n",
    "    #First loop, calculate prices at various ytms.\n",
    "    for item in range(0,len(tenor_range)):\n",
    "        prices.append(bond_price(facevalue, couponrate, tenor = tenor_range[item], periodicity, ytm))\n",
    "        tenor.append(tenor_range[item])\n",
    "    d = {'price': prices, 'Tenor': tenor}\n",
    "    df = pd.DataFrame(data=d)\n",
    "    \n",
    "    \n",
    "    eff_dur = pd.DataFrame()\n",
    "    for i in range(1,len(df)-1):\n",
    "        eff_dur.loc[i,\"eff_dur\"] = (df.loc[i-1,\"price\"]-df.loc[i+1,\"price\"])/(2*df.loc[i,\"price\"]*(df.loc[i,\"YTM\"]-df.loc[i-1,\"YTM\"]))\n",
    "        eff_dur.loc[i,\"price\"] = df.loc[i,\"price\"]\n",
    "    \n",
    "    df = pd.merge(df, eff_dur, left_on =\"price\",right_on= \"price\")\n",
    "    return(df)\n"
   ]
  },
  {
   "cell_type": "markdown",
   "metadata": {},
   "source": [
    "Quick explanation: The function above uses the bond_price function we explained earlier and iterates through various yield to maturities in tiny steps. It then collects all resulting prices in a dataframe, and matches them with the yield to maturity it corresponds to. This is what the first loop does. The second loop finds the effective duration of the bonds at all given yields by applying the following formula: $$\\frac{V_{- \\Delta y}-V_{+ \\Delta y}}{2V_{0} \\Delta y}$$\n",
    "\n",
    "In this formula, $V_{- \\Delta y}$ and$V_{+ \\Delta y}$, represent the value of the bond at a incrimentally lower and higher interest rate, $V_{0}$ is the value of the bond at the current yield to maturity and $\\Delta y$ is the change in interest rates, (which we calculate in the formula as the difference in ytm between row i and i-1 to give us some flexibility)."
   ]
  },
  {
   "cell_type": "markdown",
   "metadata": {},
   "source": [
    "## Application\n",
    "Let's apply the formula to a 100 facevalue, 5% coupon bond, maturing in 20 years with bi-annual coupons. "
   ]
  },
  {
   "cell_type": "code",
   "execution_count": 4,
   "metadata": {},
   "outputs": [
    {
     "data": {
      "text/html": [
       "<div>\n",
       "<style scoped>\n",
       "    .dataframe tbody tr th:only-of-type {\n",
       "        vertical-align: middle;\n",
       "    }\n",
       "\n",
       "    .dataframe tbody tr th {\n",
       "        vertical-align: top;\n",
       "    }\n",
       "\n",
       "    .dataframe thead th {\n",
       "        text-align: right;\n",
       "    }\n",
       "</style>\n",
       "<table border=\"1\" class=\"dataframe\">\n",
       "  <thead>\n",
       "    <tr style=\"text-align: right;\">\n",
       "      <th></th>\n",
       "      <th>price</th>\n",
       "      <th>YTM</th>\n",
       "      <th>eff_dur</th>\n",
       "    </tr>\n",
       "  </thead>\n",
       "  <tbody>\n",
       "    <tr>\n",
       "      <th>0</th>\n",
       "      <td>112.202708</td>\n",
       "      <td>0.041</td>\n",
       "      <td>13.034524</td>\n",
       "    </tr>\n",
       "    <tr>\n",
       "      <th>1</th>\n",
       "      <td>110.752722</td>\n",
       "      <td>0.042</td>\n",
       "      <td>12.981163</td>\n",
       "    </tr>\n",
       "    <tr>\n",
       "      <th>2</th>\n",
       "      <td>109.327310</td>\n",
       "      <td>0.043</td>\n",
       "      <td>12.927732</td>\n",
       "    </tr>\n",
       "    <tr>\n",
       "      <th>3</th>\n",
       "      <td>107.926013</td>\n",
       "      <td>0.044</td>\n",
       "      <td>12.874234</td>\n",
       "    </tr>\n",
       "    <tr>\n",
       "      <th>4</th>\n",
       "      <td>106.548381</td>\n",
       "      <td>0.045</td>\n",
       "      <td>12.820674</td>\n",
       "    </tr>\n",
       "    <tr>\n",
       "      <th>5</th>\n",
       "      <td>105.193969</td>\n",
       "      <td>0.046</td>\n",
       "      <td>12.767054</td>\n",
       "    </tr>\n",
       "    <tr>\n",
       "      <th>6</th>\n",
       "      <td>103.862346</td>\n",
       "      <td>0.047</td>\n",
       "      <td>12.713378</td>\n",
       "    </tr>\n",
       "    <tr>\n",
       "      <th>7</th>\n",
       "      <td>102.553087</td>\n",
       "      <td>0.048</td>\n",
       "      <td>12.659650</td>\n",
       "    </tr>\n",
       "    <tr>\n",
       "      <th>8</th>\n",
       "      <td>101.265774</td>\n",
       "      <td>0.049</td>\n",
       "      <td>12.605872</td>\n",
       "    </tr>\n",
       "    <tr>\n",
       "      <th>9</th>\n",
       "      <td>100.000000</td>\n",
       "      <td>0.050</td>\n",
       "      <td>12.552048</td>\n",
       "    </tr>\n",
       "  </tbody>\n",
       "</table>\n",
       "</div>"
      ],
      "text/plain": [
       "        price    YTM    eff_dur\n",
       "0  112.202708  0.041  13.034524\n",
       "1  110.752722  0.042  12.981163\n",
       "2  109.327310  0.043  12.927732\n",
       "3  107.926013  0.044  12.874234\n",
       "4  106.548381  0.045  12.820674\n",
       "5  105.193969  0.046  12.767054\n",
       "6  103.862346  0.047  12.713378\n",
       "7  102.553087  0.048  12.659650\n",
       "8  101.265774  0.049  12.605872\n",
       "9  100.000000  0.050  12.552048"
      ]
     },
     "execution_count": 4,
     "metadata": {},
     "output_type": "execute_result"
    }
   ],
   "source": [
    "price_df = price_ytm_curve(facevalue=100, couponrate=0.05, tenor=20, periodicity=2, yt_range=np.arange(0.04,0.052,0.001))\n",
    "price_df"
   ]
  },
  {
   "cell_type": "markdown",
   "metadata": {},
   "source": [
    "As expected, a yield to maturity of 5% gives us the principal as face value since the yield equals the coupon rate. As the yield to maturity gets smaller, the price and the effective duration rise."
   ]
  },
  {
   "cell_type": "markdown",
   "metadata": {},
   "source": [
    "We can also apply the above concepts to give us the curve that plots bond prices and the yield to maturity or as in the lower case, the bond duration given a yield to maturity."
   ]
  },
  {
   "cell_type": "code",
   "execution_count": 5,
   "metadata": {},
   "outputs": [
    {
     "data": {
      "image/png": "[encoded data removed]",
      "text/plain": [
       "<matplotlib.figure.Figure at 0x199cf0da748>"
      ]
     },
     "metadata": {
      "needs_background": "light"
     },
     "output_type": "display_data"
    }
   ],
   "source": [
    "price_df = price_ytm_curve(facevalue=100, couponrate=0.05, tenor=20, periodicity=2, yt_range=np.arange(0.0,0.1,0.001))\n",
    "price_df.index = price_df[\"YTM\"]\n",
    "price_df[\"price\"].plot(title=\"Price to YTM Relationship\",figsize=(15,5));\n",
    "plt.legend(loc='upper left')\n",
    "plt.grid(True)"
   ]
  },
  {
   "cell_type": "code",
   "execution_count": 6,
   "metadata": {},
   "outputs": [
    {
     "data": {
      "image/png": "[encoded data removed]",
      "text/plain": [
       "<matplotlib.figure.Figure at 0x199cf07dda0>"
      ]
     },
     "metadata": {
      "needs_background": "light"
     },
     "output_type": "display_data"
    }
   ],
   "source": [
    "price_df = price_ytm_curve(facevalue=100, couponrate=0.05, tenor=20, periodicity=1, yt_range=np.arange(0.0,0.1,0.0001))\n",
    "price_df.index = price_df[\"YTM\"]\n",
    "price_df[\"eff_dur\"].plot(title=\"Price to Eff. Dur. Relationship\",figsize=(15,5));\n",
    "plt.legend(loc='upper left')\n",
    "plt.grid(True)"
   ]
  },
  {
   "cell_type": "markdown",
   "metadata": {},
   "source": [
    "Open list of to dos: \n",
    "* bring in call and put option features into second function. The effective duration function wouldn't change\n",
    "* calculate convexity with one of the CFA L1 formulas \n",
    "* value the bonds not via dcf but with binomial tree from level 2 -> also include call and put option features\n",
    "* Apply it to the real world by getting real values from treasury.gov and FRED. Adjust formulas to accurately price real bonds depending on actual day and day of next coupons etc (i.e. losen assumption that we are at inception or at coupon payment date). Apply it to actual bonds\n"
   ]
  },
  {
   "cell_type": "code",
   "execution_count": 55,
   "metadata": {},
   "outputs": [
    {
     "name": "stdout",
     "output_type": "stream",
     "text": [
      "0.9267840911557297\n",
      "12.926452544745288\n",
      "12.658308978105092\n"
     ]
    }
   ],
   "source": [
    "\n",
    "\n",
    "print(price_ytm_curve(facevalue=100, couponrate=0.01, tenor=1, periodicity=1, yt_range=np.arange(0.0788,0.0792,0.0002))[\"eff_dur\"][0])\n",
    "print(price_ytm_curve(facevalue=100, couponrate=0.01, tenor=100, periodicity=1, yt_range=np.arange(0.0788,0.0792,0.0002))[\"eff_dur\"][0])\n",
    "print(price_ytm_curve(facevalue=100, couponrate=0.01, tenor=1000, periodicity=1, yt_range=np.arange(0.0788,0.0792,0.0002))[\"eff_dur\"][0])"
   ]
  }
 ],
 "metadata": {
  "kernelspec": {
   "display_name": "Python 3",
   "language": "python",
   "name": "python3"
  },
  "language_info": {
   "codemirror_mode": {
    "name": "ipython",
    "version": 3
   },
   "file_extension": ".py",
   "mimetype": "text/x-python",
   "name": "python",
   "nbconvert_exporter": "python",
   "pygments_lexer": "ipython3",
   "version": "3.6.4"
  }
 },
 "nbformat": 4,
 "nbformat_minor": 4
}
